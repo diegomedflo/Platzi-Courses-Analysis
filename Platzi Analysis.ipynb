{
 "cells": [
  {
   "cell_type": "markdown",
   "id": "c4613798",
   "metadata": {},
   "source": [
    "# Platzi courses analysis"
   ]
  },
  {
   "cell_type": "code",
   "execution_count": 1,
   "id": "e4032824",
   "metadata": {},
   "outputs": [],
   "source": [
    "#  Required libraries\n",
    "import pandas as pd\n",
    "import os\n",
    "import seaborn as sns\n",
    "import numpy as np"
   ]
  },
  {
   "cell_type": "markdown",
   "id": "a1c3a6cc",
   "metadata": {},
   "source": [
    "## 1. Get and collect all courses\n",
    "The courses are in csv files per study path or career and we must read them and put them together in a single dataframe. <br/><br/>\n",
    "_To download the csv files, please read the following repository:_"
   ]
  },
  {
   "cell_type": "code",
   "execution_count": 2,
   "id": "9089f1a4",
   "metadata": {},
   "outputs": [
    {
     "name": "stdout",
     "output_type": "stream",
     "text": [
      "done\n"
     ]
    }
   ],
   "source": [
    "#  This peace of code generates 2 dataframes: general_info , detailed_info\n",
    "\n",
    "files = [f for f in os.listdir('./schools')]\n",
    "general_info = pd.DataFrame()\n",
    "detailed_info = pd.DataFrame()\n",
    "for file in files:\n",
    "    try:\n",
    "        excel_f = pd.ExcelFile('schools/'+file)\n",
    "        df1 = pd.read_excel(excel_f, 'General_Info')\n",
    "        df2 = pd.read_excel(excel_f, 'Detailed_Courses')\n",
    "        try:\n",
    "            df1.drop(['Unnamed: 0'], axis=1, inplace = True)\n",
    "            df2.drop(['Unnamed: 0'], axis=1, inplace = True)\n",
    "        except:\n",
    "            pass\n",
    "        \n",
    "        general_info = pd.concat([general_info, df1])\n",
    "        detailed_info = pd.concat([detailed_info, df2])\n",
    "    except:\n",
    "        pass\n",
    "#  The detailed_info has a row with a total value, that row should be deleted\n",
    "indexNames = detailed_info[detailed_info['Course'] == 'TOTAL' ].index\n",
    "detailed_info.drop(indexNames , inplace=True)\n",
    "\n",
    "#  Drop duplicates rows\n",
    "general_info = general_info.drop_duplicates()\n",
    "detailed_info = detailed_info.drop_duplicates()\n",
    "\n",
    "print('done')"
   ]
  },
  {
   "cell_type": "code",
   "execution_count": 3,
   "id": "bd79a8f1",
   "metadata": {},
   "outputs": [
    {
     "data": {
      "text/html": [
       "<div>\n",
       "<style scoped>\n",
       "    .dataframe tbody tr th:only-of-type {\n",
       "        vertical-align: middle;\n",
       "    }\n",
       "\n",
       "    .dataframe tbody tr th {\n",
       "        vertical-align: top;\n",
       "    }\n",
       "\n",
       "    .dataframe thead th {\n",
       "        text-align: right;\n",
       "    }\n",
       "</style>\n",
       "<table border=\"1\" class=\"dataframe\">\n",
       "  <thead>\n",
       "    <tr style=\"text-align: right;\">\n",
       "      <th></th>\n",
       "      <th>Route_Name</th>\n",
       "      <th>Title</th>\n",
       "      <th>Level</th>\n",
       "      <th>Course</th>\n",
       "      <th>Link</th>\n",
       "    </tr>\n",
       "  </thead>\n",
       "  <tbody>\n",
       "    <tr>\n",
       "      <th>0</th>\n",
       "      <td>Administración de Servidores y DevOps</td>\n",
       "      <td>Conoce la terminal y diferentes proveedores de...</td>\n",
       "      <td>Básico</td>\n",
       "      <td>Curso de Introducción a la Terminal y Línea de...</td>\n",
       "      <td>https://platzi.com/cursos/terminal/</td>\n",
       "    </tr>\n",
       "    <tr>\n",
       "      <th>1</th>\n",
       "      <td>Administración de Servidores y DevOps</td>\n",
       "      <td>Conoce la terminal y diferentes proveedores de...</td>\n",
       "      <td>Básico</td>\n",
       "      <td>Fundamentos de Ingeniería de Software</td>\n",
       "      <td>https://platzi.com/cursos/ingenieria/</td>\n",
       "    </tr>\n",
       "    <tr>\n",
       "      <th>2</th>\n",
       "      <td>Administración de Servidores y DevOps</td>\n",
       "      <td>Conoce la terminal y diferentes proveedores de...</td>\n",
       "      <td>Básico</td>\n",
       "      <td>Curso de Administración de Servidores Linux</td>\n",
       "      <td>https://platzi.com/cursos/linux/</td>\n",
       "    </tr>\n",
       "    <tr>\n",
       "      <th>3</th>\n",
       "      <td>Administración de Servidores y DevOps</td>\n",
       "      <td>Conoce la terminal y diferentes proveedores de...</td>\n",
       "      <td>Básico</td>\n",
       "      <td>Curso de Introducción al Despliegue de Aplicac...</td>\n",
       "      <td>https://platzi.com/cursos/despliegue-apps/</td>\n",
       "    </tr>\n",
       "    <tr>\n",
       "      <th>4</th>\n",
       "      <td>Administración de Servidores y DevOps</td>\n",
       "      <td>Conoce la terminal y diferentes proveedores de...</td>\n",
       "      <td>Básico</td>\n",
       "      <td>Audiocurso de Fundamentos de Arquitectura de A...</td>\n",
       "      <td>https://platzi.com/cursos/arquitectura-alta-co...</td>\n",
       "    </tr>\n",
       "  </tbody>\n",
       "</table>\n",
       "</div>"
      ],
      "text/plain": [
       "                              Route_Name  \\\n",
       "0  Administración de Servidores y DevOps   \n",
       "1  Administración de Servidores y DevOps   \n",
       "2  Administración de Servidores y DevOps   \n",
       "3  Administración de Servidores y DevOps   \n",
       "4  Administración de Servidores y DevOps   \n",
       "\n",
       "                                               Title   Level  \\\n",
       "0  Conoce la terminal y diferentes proveedores de...  Básico   \n",
       "1  Conoce la terminal y diferentes proveedores de...  Básico   \n",
       "2  Conoce la terminal y diferentes proveedores de...  Básico   \n",
       "3  Conoce la terminal y diferentes proveedores de...  Básico   \n",
       "4  Conoce la terminal y diferentes proveedores de...  Básico   \n",
       "\n",
       "                                              Course  \\\n",
       "0  Curso de Introducción a la Terminal y Línea de...   \n",
       "1              Fundamentos de Ingeniería de Software   \n",
       "2        Curso de Administración de Servidores Linux   \n",
       "3  Curso de Introducción al Despliegue de Aplicac...   \n",
       "4  Audiocurso de Fundamentos de Arquitectura de A...   \n",
       "\n",
       "                                                Link  \n",
       "0                https://platzi.com/cursos/terminal/  \n",
       "1              https://platzi.com/cursos/ingenieria/  \n",
       "2                   https://platzi.com/cursos/linux/  \n",
       "3         https://platzi.com/cursos/despliegue-apps/  \n",
       "4  https://platzi.com/cursos/arquitectura-alta-co...  "
      ]
     },
     "execution_count": 3,
     "metadata": {},
     "output_type": "execute_result"
    }
   ],
   "source": [
    "general_info.head()"
   ]
  },
  {
   "cell_type": "code",
   "execution_count": 4,
   "id": "a07e66d0",
   "metadata": {},
   "outputs": [
    {
     "data": {
      "text/html": [
       "<div>\n",
       "<style scoped>\n",
       "    .dataframe tbody tr th:only-of-type {\n",
       "        vertical-align: middle;\n",
       "    }\n",
       "\n",
       "    .dataframe tbody tr th {\n",
       "        vertical-align: top;\n",
       "    }\n",
       "\n",
       "    .dataframe thead th {\n",
       "        text-align: right;\n",
       "    }\n",
       "</style>\n",
       "<table border=\"1\" class=\"dataframe\">\n",
       "  <thead>\n",
       "    <tr style=\"text-align: right;\">\n",
       "      <th></th>\n",
       "      <th>Course</th>\n",
       "      <th>Teacher</th>\n",
       "      <th>Hours of study</th>\n",
       "      <th>Hours of practice</th>\n",
       "      <th>Quantity of classes</th>\n",
       "      <th>Avg min/class</th>\n",
       "      <th>Finished</th>\n",
       "      <th>Link</th>\n",
       "    </tr>\n",
       "  </thead>\n",
       "  <tbody>\n",
       "    <tr>\n",
       "      <th>0</th>\n",
       "      <td>Curso de Introducción a la Terminal y Línea de...</td>\n",
       "      <td>Enrique Devars</td>\n",
       "      <td>3</td>\n",
       "      <td>8</td>\n",
       "      <td>21</td>\n",
       "      <td>8.57</td>\n",
       "      <td>6799</td>\n",
       "      <td>https://platzi.com/cursos/terminal/</td>\n",
       "    </tr>\n",
       "    <tr>\n",
       "      <th>1</th>\n",
       "      <td>Fundamentos de Ingeniería de Software</td>\n",
       "      <td>Freddy Vega</td>\n",
       "      <td>5</td>\n",
       "      <td>10</td>\n",
       "      <td>32</td>\n",
       "      <td>9.38</td>\n",
       "      <td>11875</td>\n",
       "      <td>https://platzi.com/cursos/ingenieria/</td>\n",
       "    </tr>\n",
       "    <tr>\n",
       "      <th>2</th>\n",
       "      <td>Curso de Administración de Servidores Linux</td>\n",
       "      <td>Jhon Edison Castro</td>\n",
       "      <td>5</td>\n",
       "      <td>18</td>\n",
       "      <td>46</td>\n",
       "      <td>6.52</td>\n",
       "      <td>1963</td>\n",
       "      <td>https://platzi.com/cursos/linux/</td>\n",
       "    </tr>\n",
       "    <tr>\n",
       "      <th>3</th>\n",
       "      <td>Curso de Introducción al Despliegue de Aplicac...</td>\n",
       "      <td>Santiago Bernal</td>\n",
       "      <td>1</td>\n",
       "      <td>10</td>\n",
       "      <td>18</td>\n",
       "      <td>3.33</td>\n",
       "      <td>777</td>\n",
       "      <td>https://platzi.com/cursos/despliegue-apps/</td>\n",
       "    </tr>\n",
       "    <tr>\n",
       "      <th>4</th>\n",
       "      <td>Audiocurso de Fundamentos de Arquitectura de A...</td>\n",
       "      <td>Pablo Fredrikson</td>\n",
       "      <td>1</td>\n",
       "      <td>14</td>\n",
       "      <td>18</td>\n",
       "      <td>3.33</td>\n",
       "      <td>281</td>\n",
       "      <td>https://platzi.com/cursos/arquitectura-alta-co...</td>\n",
       "    </tr>\n",
       "  </tbody>\n",
       "</table>\n",
       "</div>"
      ],
      "text/plain": [
       "                                              Course             Teacher  \\\n",
       "0  Curso de Introducción a la Terminal y Línea de...      Enrique Devars   \n",
       "1              Fundamentos de Ingeniería de Software         Freddy Vega   \n",
       "2        Curso de Administración de Servidores Linux  Jhon Edison Castro   \n",
       "3  Curso de Introducción al Despliegue de Aplicac...     Santiago Bernal   \n",
       "4  Audiocurso de Fundamentos de Arquitectura de A...    Pablo Fredrikson   \n",
       "\n",
       "   Hours of study  Hours of practice  Quantity of classes Avg min/class  \\\n",
       "0               3                  8                   21          8.57   \n",
       "1               5                 10                   32          9.38   \n",
       "2               5                 18                   46          6.52   \n",
       "3               1                 10                   18          3.33   \n",
       "4               1                 14                   18          3.33   \n",
       "\n",
       "   Finished                                               Link  \n",
       "0      6799                https://platzi.com/cursos/terminal/  \n",
       "1     11875              https://platzi.com/cursos/ingenieria/  \n",
       "2      1963                   https://platzi.com/cursos/linux/  \n",
       "3       777         https://platzi.com/cursos/despliegue-apps/  \n",
       "4       281  https://platzi.com/cursos/arquitectura-alta-co...  "
      ]
     },
     "execution_count": 4,
     "metadata": {},
     "output_type": "execute_result"
    }
   ],
   "source": [
    "detailed_info.head()"
   ]
  },
  {
   "cell_type": "markdown",
   "id": "068559ac",
   "metadata": {},
   "source": [
    "##  2. Now, let's answer some questions.\n",
    "1. [How many careers and courses does Platzi have?](#2.1.-How-many-careers-and-courses-does-Platzi-have?)\n",
    "1. [Who are the top 10 teacher with more courses?](#2.2.-Who-are-the-top-10-teacher-with-more-courses?)\n",
    "1. [What courses have been the most completed?](#2.3.-What-courses-have-been-the-most-completed?)\n",
    "1. [Who are the top 10 teacher with more finished?](#2.4.-Who-are-the-top-10-teacher-with-more-finished?)\n",
    "1. [Relation between students and courses launched per teacher.](#2.5.-Relation-between-students-and-courses-launched-per-teacher.)"
   ]
  },
  {
   "cell_type": "markdown",
   "id": "0367ef30",
   "metadata": {},
   "source": [
    "### 2.1. How many careers and courses does Platzi have?"
   ]
  },
  {
   "cell_type": "code",
   "execution_count": 5,
   "id": "f1c5f09e",
   "metadata": {},
   "outputs": [
    {
     "data": {
      "text/html": [
       "<div>\n",
       "<style scoped>\n",
       "    .dataframe tbody tr th:only-of-type {\n",
       "        vertical-align: middle;\n",
       "    }\n",
       "\n",
       "    .dataframe tbody tr th {\n",
       "        vertical-align: top;\n",
       "    }\n",
       "\n",
       "    .dataframe thead th {\n",
       "        text-align: right;\n",
       "    }\n",
       "</style>\n",
       "<table border=\"1\" class=\"dataframe\">\n",
       "  <thead>\n",
       "    <tr style=\"text-align: right;\">\n",
       "      <th></th>\n",
       "      <th>Route_Name</th>\n",
       "    </tr>\n",
       "  </thead>\n",
       "  <tbody>\n",
       "    <tr>\n",
       "      <th>Escuela de Desarrollo Web</th>\n",
       "      <td>107</td>\n",
       "    </tr>\n",
       "    <tr>\n",
       "      <th>Escuela de Marketing Digital</th>\n",
       "      <td>76</td>\n",
       "    </tr>\n",
       "    <tr>\n",
       "      <th>Escuela de Habilidades Blandas</th>\n",
       "      <td>68</td>\n",
       "    </tr>\n",
       "    <tr>\n",
       "      <th>Machine Learning Engineer</th>\n",
       "      <td>61</td>\n",
       "    </tr>\n",
       "    <tr>\n",
       "      <th>Escuela de Business Management</th>\n",
       "      <td>59</td>\n",
       "    </tr>\n",
       "    <tr>\n",
       "      <th>Escuela de Programación y Desarrollo de Software</th>\n",
       "      <td>58</td>\n",
       "    </tr>\n",
       "    <tr>\n",
       "      <th>Platzi English Academy</th>\n",
       "      <td>58</td>\n",
       "    </tr>\n",
       "    <tr>\n",
       "      <th>Escuela de Startups</th>\n",
       "      <td>58</td>\n",
       "    </tr>\n",
       "    <tr>\n",
       "      <th>Data Engineer</th>\n",
       "      <td>45</td>\n",
       "    </tr>\n",
       "    <tr>\n",
       "      <th>Escuela de Producción Audiovisual</th>\n",
       "      <td>43</td>\n",
       "    </tr>\n",
       "  </tbody>\n",
       "</table>\n",
       "</div>"
      ],
      "text/plain": [
       "                                                  Route_Name\n",
       "Escuela de Desarrollo Web                                107\n",
       "Escuela de Marketing Digital                              76\n",
       "Escuela de Habilidades Blandas                            68\n",
       "Machine Learning Engineer                                 61\n",
       "Escuela de Business Management                            59\n",
       "Escuela de Programación y Desarrollo de Software          58\n",
       "Platzi English Academy                                    58\n",
       "Escuela de Startups                                       58\n",
       "Data Engineer                                             45\n",
       "Escuela de Producción Audiovisual                         43"
      ]
     },
     "execution_count": 5,
     "metadata": {},
     "output_type": "execute_result"
    }
   ],
   "source": [
    "#  Quantity of courses per career\n",
    "count_career = pd.DataFrame(general_info['Route_Name'].value_counts())\n",
    "count_career.head(10)"
   ]
  },
  {
   "cell_type": "code",
   "execution_count": 6,
   "id": "17a325a6",
   "metadata": {},
   "outputs": [
    {
     "name": "stdout",
     "output_type": "stream",
     "text": [
      "Platzi has 61 careers.\n",
      "Platzi has 487 courses.\n"
     ]
    }
   ],
   "source": [
    "#  Total careers\n",
    "print('Platzi has', len(count_career['Route_Name']), 'careers.')\n",
    "\n",
    "#  Total courses\n",
    "print('Platzi has', len(detailed_info['Course']), 'courses.')"
   ]
  },
  {
   "cell_type": "markdown",
   "id": "ded622a5",
   "metadata": {},
   "source": [
    "__Conclusion:__ The career of Web Desing has 107 courses, that's a big amount of courses compared to Digital Marketing that only has 76 courses. But from Digital Marketing to Audiovisual Production, the difference if less."
   ]
  },
  {
   "cell_type": "markdown",
   "id": "7153db44",
   "metadata": {},
   "source": [
    "***"
   ]
  },
  {
   "cell_type": "markdown",
   "id": "d13fe302",
   "metadata": {},
   "source": [
    "### 2.2. Who are the top 10 teacher with more courses?"
   ]
  },
  {
   "cell_type": "code",
   "execution_count": 7,
   "id": "7b9ef21e",
   "metadata": {},
   "outputs": [
    {
     "data": {
      "text/html": [
       "<div>\n",
       "<style scoped>\n",
       "    .dataframe tbody tr th:only-of-type {\n",
       "        vertical-align: middle;\n",
       "    }\n",
       "\n",
       "    .dataframe tbody tr th {\n",
       "        vertical-align: top;\n",
       "    }\n",
       "\n",
       "    .dataframe thead th {\n",
       "        text-align: right;\n",
       "    }\n",
       "</style>\n",
       "<table border=\"1\" class=\"dataframe\">\n",
       "  <thead>\n",
       "    <tr style=\"text-align: right;\">\n",
       "      <th></th>\n",
       "      <th>Teacher</th>\n",
       "      <th>Count</th>\n",
       "    </tr>\n",
       "  </thead>\n",
       "  <tbody>\n",
       "    <tr>\n",
       "      <th>0</th>\n",
       "      <td>Nicolas Molina</td>\n",
       "      <td>14</td>\n",
       "    </tr>\n",
       "    <tr>\n",
       "      <th>1</th>\n",
       "      <td>Oscar Barajas Tavares</td>\n",
       "      <td>12</td>\n",
       "    </tr>\n",
       "    <tr>\n",
       "      <th>2</th>\n",
       "      <td>Ricardo Celis</td>\n",
       "      <td>11</td>\n",
       "    </tr>\n",
       "    <tr>\n",
       "      <th>3</th>\n",
       "      <td>Jonathan Alvarez</td>\n",
       "      <td>9</td>\n",
       "    </tr>\n",
       "    <tr>\n",
       "      <th>4</th>\n",
       "      <td>Anahí Salgado Díaz de la Vega</td>\n",
       "      <td>7</td>\n",
       "    </tr>\n",
       "    <tr>\n",
       "      <th>5</th>\n",
       "      <td>Juan Gabriel Gomila</td>\n",
       "      <td>6</td>\n",
       "    </tr>\n",
       "    <tr>\n",
       "      <th>6</th>\n",
       "      <td>Diana Reyes</td>\n",
       "      <td>6</td>\n",
       "    </tr>\n",
       "    <tr>\n",
       "      <th>7</th>\n",
       "      <td>Freddy Vega</td>\n",
       "      <td>6</td>\n",
       "    </tr>\n",
       "    <tr>\n",
       "      <th>11</th>\n",
       "      <td>Angela Ocando</td>\n",
       "      <td>5</td>\n",
       "    </tr>\n",
       "    <tr>\n",
       "      <th>12</th>\n",
       "      <td>Jhon Carvajal</td>\n",
       "      <td>5</td>\n",
       "    </tr>\n",
       "  </tbody>\n",
       "</table>\n",
       "</div>"
      ],
      "text/plain": [
       "                          Teacher  Count\n",
       "0                  Nicolas Molina     14\n",
       "1           Oscar Barajas Tavares     12\n",
       "2                   Ricardo Celis     11\n",
       "3                Jonathan Alvarez      9\n",
       "4   Anahí Salgado Díaz de la Vega      7\n",
       "5             Juan Gabriel Gomila      6\n",
       "6                     Diana Reyes      6\n",
       "7                     Freddy Vega      6\n",
       "11                  Angela Ocando      5\n",
       "12                  Jhon Carvajal      5"
      ]
     },
     "execution_count": 7,
     "metadata": {},
     "output_type": "execute_result"
    }
   ],
   "source": [
    "#  Quantity of courses per teacher\n",
    "\n",
    "t_c = pd.DataFrame(detailed_info['Teacher'].value_counts())\n",
    "top_teachers = pd.DataFrame(list(zip( list(t_c['Teacher'].index), list(t_c['Teacher']) )), columns = ['Teacher','Count'])\n",
    "top_teachers = top_teachers.sort_values('Count',ascending=False)\n",
    "top10_teachers = top_teachers.head(10)\n",
    "top10_teachers"
   ]
  },
  {
   "cell_type": "code",
   "execution_count": 8,
   "id": "1f262ab4",
   "metadata": {},
   "outputs": [
    {
     "name": "stdout",
     "output_type": "stream",
     "text": [
      "Platzi has had 304 teachers until now (14-12-2021).\n"
     ]
    }
   ],
   "source": [
    "#  Quantity of teachers\n",
    "\n",
    "print('Platzi has had', len(top_teachers['Teacher']), 'teachers until now (14-12-2021).')"
   ]
  },
  {
   "cell_type": "code",
   "execution_count": 9,
   "id": "d743ce3a",
   "metadata": {},
   "outputs": [
    {
     "data": {
      "image/png": "[encoded data removed]",
      "text/plain": [
       "<Figure size 432x288 with 1 Axes>"
      ]
     },
     "metadata": {},
     "output_type": "display_data"
    }
   ],
   "source": [
    "#  Creating a chart\n",
    "\n",
    "sns.set_theme(style=\"dark\")\n",
    "ax = sns.barplot(x=\"Count\", y=\"Teacher\", data=top10_teachers)"
   ]
  },
  {
   "cell_type": "markdown",
   "id": "cd29fca9",
   "metadata": {},
   "source": [
    "__Conclusion:__ Nicolas Molina has 14 courses launched, the next teacher is Oscar Barajas T. with 12 courses launched. There is a minimal difference between the top 10 teachers."
   ]
  },
  {
   "cell_type": "markdown",
   "id": "a6e05a02",
   "metadata": {},
   "source": [
    "***"
   ]
  },
  {
   "cell_type": "markdown",
   "id": "1e0e9372",
   "metadata": {},
   "source": [
    "### 2.3. What courses have been the most completed?"
   ]
  },
  {
   "cell_type": "code",
   "execution_count": 10,
   "id": "23314d11",
   "metadata": {},
   "outputs": [
    {
     "data": {
      "text/html": [
       "<div>\n",
       "<style scoped>\n",
       "    .dataframe tbody tr th:only-of-type {\n",
       "        vertical-align: middle;\n",
       "    }\n",
       "\n",
       "    .dataframe tbody tr th {\n",
       "        vertical-align: top;\n",
       "    }\n",
       "\n",
       "    .dataframe thead th {\n",
       "        text-align: right;\n",
       "    }\n",
       "</style>\n",
       "<table border=\"1\" class=\"dataframe\">\n",
       "  <thead>\n",
       "    <tr style=\"text-align: right;\">\n",
       "      <th></th>\n",
       "      <th>Course</th>\n",
       "      <th>Teacher</th>\n",
       "      <th>Finished</th>\n",
       "    </tr>\n",
       "  </thead>\n",
       "  <tbody>\n",
       "    <tr>\n",
       "      <th>1</th>\n",
       "      <td>Curso Gratis de Programación Básica</td>\n",
       "      <td>Freddy Vega</td>\n",
       "      <td>23325</td>\n",
       "    </tr>\n",
       "    <tr>\n",
       "      <th>2</th>\n",
       "      <td>Curso de Inglés para Principiantes</td>\n",
       "      <td>Gina Pedraza</td>\n",
       "      <td>18003</td>\n",
       "    </tr>\n",
       "    <tr>\n",
       "      <th>0</th>\n",
       "      <td>Curso de Estrategias para Aprender en Línea Ef...</td>\n",
       "      <td>Anahí Salgado Díaz de la Vega</td>\n",
       "      <td>17845</td>\n",
       "    </tr>\n",
       "    <tr>\n",
       "      <th>0</th>\n",
       "      <td>Curso de Estrategias para Aprender Inglés Online</td>\n",
       "      <td>Andrea Velásquez</td>\n",
       "      <td>17454</td>\n",
       "    </tr>\n",
       "    <tr>\n",
       "      <th>2</th>\n",
       "      <td>Curso Profesional de Git y GitHub</td>\n",
       "      <td>Freddy Vega</td>\n",
       "      <td>14868</td>\n",
       "    </tr>\n",
       "    <tr>\n",
       "      <th>34</th>\n",
       "      <td>Curso Gratis de Marca Personal</td>\n",
       "      <td>Freddy Vega</td>\n",
       "      <td>14520</td>\n",
       "    </tr>\n",
       "    <tr>\n",
       "      <th>0</th>\n",
       "      <td>Curso de Prework: Configuración de Entorno de ...</td>\n",
       "      <td>Ricardo Celis</td>\n",
       "      <td>13882</td>\n",
       "    </tr>\n",
       "    <tr>\n",
       "      <th>3</th>\n",
       "      <td>Curso Básico de Python</td>\n",
       "      <td>Facundo García Martoni</td>\n",
       "      <td>13836</td>\n",
       "    </tr>\n",
       "    <tr>\n",
       "      <th>2</th>\n",
       "      <td>Curso Básico de JavaScript</td>\n",
       "      <td>Diego De Granda</td>\n",
       "      <td>13224</td>\n",
       "    </tr>\n",
       "    <tr>\n",
       "      <th>1</th>\n",
       "      <td>Curso de Gestión Efectiva del Tiempo</td>\n",
       "      <td>Beatriz Ibañez</td>\n",
       "      <td>13042</td>\n",
       "    </tr>\n",
       "  </tbody>\n",
       "</table>\n",
       "</div>"
      ],
      "text/plain": [
       "                                               Course  \\\n",
       "1                 Curso Gratis de Programación Básica   \n",
       "2                  Curso de Inglés para Principiantes   \n",
       "0   Curso de Estrategias para Aprender en Línea Ef...   \n",
       "0    Curso de Estrategias para Aprender Inglés Online   \n",
       "2                   Curso Profesional de Git y GitHub   \n",
       "34                     Curso Gratis de Marca Personal   \n",
       "0   Curso de Prework: Configuración de Entorno de ...   \n",
       "3                              Curso Básico de Python   \n",
       "2                          Curso Básico de JavaScript   \n",
       "1                Curso de Gestión Efectiva del Tiempo   \n",
       "\n",
       "                          Teacher  Finished  \n",
       "1                     Freddy Vega     23325  \n",
       "2                    Gina Pedraza     18003  \n",
       "0   Anahí Salgado Díaz de la Vega     17845  \n",
       "0                Andrea Velásquez     17454  \n",
       "2                     Freddy Vega     14868  \n",
       "34                    Freddy Vega     14520  \n",
       "0                   Ricardo Celis     13882  \n",
       "3          Facundo García Martoni     13836  \n",
       "2                 Diego De Granda     13224  \n",
       "1                  Beatriz Ibañez     13042  "
      ]
     },
     "execution_count": 10,
     "metadata": {},
     "output_type": "execute_result"
    }
   ],
   "source": [
    "more_finished = detailed_info.sort_values('Finished', ascending=False)\n",
    "more_finished = more_finished[['Course', 'Teacher','Finished']]\n",
    "more10_finished = more_finished.head(10)\n",
    "more10_finished"
   ]
  },
  {
   "cell_type": "code",
   "execution_count": 11,
   "id": "e736a5a9",
   "metadata": {},
   "outputs": [
    {
     "data": {
      "image/png": "[encoded data removed]",
      "text/plain": [
       "<Figure size 432x288 with 1 Axes>"
      ]
     },
     "metadata": {},
     "output_type": "display_data"
    }
   ],
   "source": [
    "#  Creating a chart\n",
    "\n",
    "sns.set_theme(style=\"dark\")\n",
    "ax = sns.barplot(x=\"Finished\", y=\"Course\", data=more10_finished)"
   ]
  },
  {
   "cell_type": "markdown",
   "id": "dfa05249",
   "metadata": {},
   "source": [
    "__Conclusion:__ As you can see the top 10 courses most finished are basic courses."
   ]
  },
  {
   "cell_type": "markdown",
   "id": "b9e14da1",
   "metadata": {},
   "source": [
    "***"
   ]
  },
  {
   "cell_type": "markdown",
   "id": "0dd3057e",
   "metadata": {},
   "source": [
    "### 2.4. Who are the top 10 teacher with more finished?"
   ]
  },
  {
   "cell_type": "code",
   "execution_count": 29,
   "id": "543d8454",
   "metadata": {},
   "outputs": [
    {
     "data": {
      "text/html": [
       "<div>\n",
       "<style scoped>\n",
       "    .dataframe tbody tr th:only-of-type {\n",
       "        vertical-align: middle;\n",
       "    }\n",
       "\n",
       "    .dataframe tbody tr th {\n",
       "        vertical-align: top;\n",
       "    }\n",
       "\n",
       "    .dataframe thead th {\n",
       "        text-align: right;\n",
       "    }\n",
       "</style>\n",
       "<table border=\"1\" class=\"dataframe\">\n",
       "  <thead>\n",
       "    <tr style=\"text-align: right;\">\n",
       "      <th></th>\n",
       "      <th>Teacher</th>\n",
       "      <th>Finished</th>\n",
       "      <th>Courses Qnty</th>\n",
       "    </tr>\n",
       "  </thead>\n",
       "  <tbody>\n",
       "    <tr>\n",
       "      <th>277</th>\n",
       "      <td>Freddy Vega</td>\n",
       "      <td>70735</td>\n",
       "      <td>6</td>\n",
       "    </tr>\n",
       "    <tr>\n",
       "      <th>1</th>\n",
       "      <td>Ricardo Celis</td>\n",
       "      <td>35626</td>\n",
       "      <td>11</td>\n",
       "    </tr>\n",
       "    <tr>\n",
       "      <th>299</th>\n",
       "      <td>Anahí Salgado Díaz de la Vega</td>\n",
       "      <td>35167</td>\n",
       "      <td>7</td>\n",
       "    </tr>\n",
       "    <tr>\n",
       "      <th>91</th>\n",
       "      <td>Diego De Granda</td>\n",
       "      <td>27786</td>\n",
       "      <td>5</td>\n",
       "    </tr>\n",
       "    <tr>\n",
       "      <th>228</th>\n",
       "      <td>Oscar Barajas Tavares</td>\n",
       "      <td>22676</td>\n",
       "      <td>12</td>\n",
       "    </tr>\n",
       "    <tr>\n",
       "      <th>44</th>\n",
       "      <td>Facundo García Martoni</td>\n",
       "      <td>20454</td>\n",
       "      <td>5</td>\n",
       "    </tr>\n",
       "    <tr>\n",
       "      <th>302</th>\n",
       "      <td>Gina Pedraza</td>\n",
       "      <td>19240</td>\n",
       "      <td>2</td>\n",
       "    </tr>\n",
       "    <tr>\n",
       "      <th>214</th>\n",
       "      <td>Andrea Velásquez</td>\n",
       "      <td>17454</td>\n",
       "      <td>1</td>\n",
       "    </tr>\n",
       "    <tr>\n",
       "      <th>208</th>\n",
       "      <td>Beatriz Ibañez</td>\n",
       "      <td>16186</td>\n",
       "      <td>2</td>\n",
       "    </tr>\n",
       "    <tr>\n",
       "      <th>123</th>\n",
       "      <td>Angela Ocando</td>\n",
       "      <td>11018</td>\n",
       "      <td>5</td>\n",
       "    </tr>\n",
       "  </tbody>\n",
       "</table>\n",
       "</div>"
      ],
      "text/plain": [
       "                           Teacher  Finished  Courses Qnty\n",
       "277                    Freddy Vega     70735             6\n",
       "1                    Ricardo Celis     35626            11\n",
       "299  Anahí Salgado Díaz de la Vega     35167             7\n",
       "91                 Diego De Granda     27786             5\n",
       "228          Oscar Barajas Tavares     22676            12\n",
       "44          Facundo García Martoni     20454             5\n",
       "302                   Gina Pedraza     19240             2\n",
       "214               Andrea Velásquez     17454             1\n",
       "208                 Beatriz Ibañez     16186             2\n",
       "123                  Angela Ocando     11018             5"
      ]
     },
     "execution_count": 29,
     "metadata": {},
     "output_type": "execute_result"
    }
   ],
   "source": [
    "#  And what about the teachers with more courses finished?\n",
    "uniq_teach = list(set(list(more_finished['Teacher'])))\n",
    "more_finished_x_teacher = pd.DataFrame()\n",
    "more_finished_x_teacher['Teacher'] = uniq_teach\n",
    "\n",
    "count_by_teach = []\n",
    "courses_by_teach = []\n",
    "for teacher in more_finished_x_teacher['Teacher']:\n",
    "    temp_sum = more_finished.loc[more_finished['Teacher'] == teacher, 'Finished'].sum()\n",
    "    temp_count = list(more_finished['Teacher']).count(teacher)\n",
    "    count_by_teach.append(temp_sum)\n",
    "    courses_by_teach.append(temp_count)\n",
    "    \n",
    "more_finished_x_teacher['Finished'] = count_by_teach\n",
    "more_finished_x_teacher['Courses Qnty'] = courses_by_teach\n",
    "\n",
    "more_finished_x_teacher = more_finished_x_teacher.sort_values('Finished',ascending=False)\n",
    "more_finished_x_teacher.head(10)\n",
    "\n",
    "#  There are some courses that have 0 finished, that's why those courses are not available yet."
   ]
  },
  {
   "cell_type": "code",
   "execution_count": 30,
   "id": "2194799e",
   "metadata": {},
   "outputs": [
    {
     "data": {
      "text/html": [
       "<div>\n",
       "<style scoped>\n",
       "    .dataframe tbody tr th:only-of-type {\n",
       "        vertical-align: middle;\n",
       "    }\n",
       "\n",
       "    .dataframe tbody tr th {\n",
       "        vertical-align: top;\n",
       "    }\n",
       "\n",
       "    .dataframe thead th {\n",
       "        text-align: right;\n",
       "    }\n",
       "</style>\n",
       "<table border=\"1\" class=\"dataframe\">\n",
       "  <thead>\n",
       "    <tr style=\"text-align: right;\">\n",
       "      <th></th>\n",
       "      <th>Teacher</th>\n",
       "      <th>Finished</th>\n",
       "      <th>Courses Qnty</th>\n",
       "    </tr>\n",
       "  </thead>\n",
       "  <tbody>\n",
       "    <tr>\n",
       "      <th>66</th>\n",
       "      <td>Vanessa Amaya</td>\n",
       "      <td>12</td>\n",
       "      <td>1</td>\n",
       "    </tr>\n",
       "    <tr>\n",
       "      <th>265</th>\n",
       "      <td>Camilo Gómez</td>\n",
       "      <td>11</td>\n",
       "      <td>1</td>\n",
       "    </tr>\n",
       "    <tr>\n",
       "      <th>63</th>\n",
       "      <td>Pablo Pérez</td>\n",
       "      <td>8</td>\n",
       "      <td>1</td>\n",
       "    </tr>\n",
       "    <tr>\n",
       "      <th>57</th>\n",
       "      <td>Luis Antonio Ruvalcaba Sánchez</td>\n",
       "      <td>7</td>\n",
       "      <td>1</td>\n",
       "    </tr>\n",
       "    <tr>\n",
       "      <th>20</th>\n",
       "      <td>Ravee Lakhmani</td>\n",
       "      <td>7</td>\n",
       "      <td>1</td>\n",
       "    </tr>\n",
       "    <tr>\n",
       "      <th>83</th>\n",
       "      <td>Sthefanni Beltrán</td>\n",
       "      <td>6</td>\n",
       "      <td>1</td>\n",
       "    </tr>\n",
       "    <tr>\n",
       "      <th>120</th>\n",
       "      <td>Nicolas Galagovsky</td>\n",
       "      <td>5</td>\n",
       "      <td>1</td>\n",
       "    </tr>\n",
       "    <tr>\n",
       "      <th>169</th>\n",
       "      <td>Adonaí Vera</td>\n",
       "      <td>5</td>\n",
       "      <td>1</td>\n",
       "    </tr>\n",
       "    <tr>\n",
       "      <th>42</th>\n",
       "      <td>Gerson Perdomo</td>\n",
       "      <td>1</td>\n",
       "      <td>1</td>\n",
       "    </tr>\n",
       "    <tr>\n",
       "      <th>172</th>\n",
       "      <td>Laura Rojas Aponte</td>\n",
       "      <td>1</td>\n",
       "      <td>1</td>\n",
       "    </tr>\n",
       "  </tbody>\n",
       "</table>\n",
       "</div>"
      ],
      "text/plain": [
       "                            Teacher  Finished  Courses Qnty\n",
       "66                    Vanessa Amaya        12             1\n",
       "265                    Camilo Gómez        11             1\n",
       "63                      Pablo Pérez         8             1\n",
       "57   Luis Antonio Ruvalcaba Sánchez         7             1\n",
       "20                   Ravee Lakhmani         7             1\n",
       "83                Sthefanni Beltrán         6             1\n",
       "120              Nicolas Galagovsky         5             1\n",
       "169                     Adonaí Vera         5             1\n",
       "42                   Gerson Perdomo         1             1\n",
       "172              Laura Rojas Aponte         1             1"
      ]
     },
     "execution_count": 30,
     "metadata": {},
     "output_type": "execute_result"
    }
   ],
   "source": [
    "#  Also let's analyze the teacher with less finished.\n",
    "'''\n",
    "Before doing this study we have to delete the courses with 0 finished because those haven't been launched yet.\n",
    "'''\n",
    "indexNames = more_finished_x_teacher[more_finished_x_teacher['Finished'] == 0 ].index\n",
    "more_finished_x_teacher = more_finished_x_teacher.drop(indexNames)\n",
    "more_finished_x_teacher.tail(10)"
   ]
  },
  {
   "cell_type": "markdown",
   "id": "8ac81611",
   "metadata": {},
   "source": [
    "__Conclusion:__ You can see that Freddy Vega has 70,735 students who have finished their courses with 6 courses launched.<br>\n",
    "But Ricardo Celis, with 11 courses launched, has almost half of the students who have finished their courses.<br>\n",
    "Andrea Velásquez seems to be an excellent teacher because with only 1 course launched has more completed than Angela O. with 5 courses launched."
   ]
  },
  {
   "cell_type": "markdown",
   "id": "fcbf1a13",
   "metadata": {},
   "source": [
    "***"
   ]
  },
  {
   "cell_type": "markdown",
   "id": "08cf0187",
   "metadata": {},
   "source": [
    "### 2.5. Relation between students and courses launched per teacher."
   ]
  },
  {
   "cell_type": "code",
   "execution_count": 31,
   "id": "7059eaf1",
   "metadata": {},
   "outputs": [
    {
     "data": {
      "image/png": "[encoded data removed]",
      "text/plain": [
       "<Figure size 360x360 with 1 Axes>"
      ]
     },
     "metadata": {},
     "output_type": "display_data"
    }
   ],
   "source": [
    "ax = sns.lmplot(x='Courses Qnty', y='Finished', data=more_finished_x_teacher_w_c)"
   ]
  },
  {
   "cell_type": "code",
   "execution_count": 24,
   "id": "ef4e0264",
   "metadata": {},
   "outputs": [
    {
     "data": {
      "text/plain": [
       "0.542665853327476"
      ]
     },
     "execution_count": 24,
     "metadata": {},
     "output_type": "execute_result"
    }
   ],
   "source": [
    "#  Let's calculate the correlation coefficient\n",
    "corr_array = np.corrcoef(more_finished_x_teacher_w_c['Courses Qnty'], more_finished_x_teacher_w_c['Finished'])\n",
    "corr_array[0][1]"
   ]
  },
  {
   "cell_type": "markdown",
   "id": "4b50705a",
   "metadata": {},
   "source": [
    "__Conclusion:__  The correlation coefficient is positive, that means that the more a teacher launch a course, the morefinished he will have."
   ]
  }
 ],
 "metadata": {
  "kernelspec": {
   "display_name": "Python 3",
   "language": "python",
   "name": "python3"
  },
  "language_info": {
   "codemirror_mode": {
    "name": "ipython",
    "version": 3
   },
   "file_extension": ".py",
   "mimetype": "text/x-python",
   "name": "python",
   "nbconvert_exporter": "python",
   "pygments_lexer": "ipython3",
   "version": "3.8.8"
  }
 },
 "nbformat": 4,
 "nbformat_minor": 5
}
